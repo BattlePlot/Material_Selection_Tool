{
 "cells": [
  {
   "cell_type": "code",
   "execution_count": null,
   "metadata": {},
   "outputs": [],
   "source": [
    "testdictionary = {\n",
    "    \"Acoustical properties\" : [\n",
    "        \"Acoustical absorption\",\n",
    "        \"Speed of sound\",\n",
    "        \"Sound reflection\",\n",
    "        \"Sound transfer\",\n",
    "        \"Third order elasticity (Acoustoelastic effect)\"]\n",
    "}"
   ]
  },
  {
   "cell_type": "code",
   "execution_count": null,
   "metadata": {},
   "outputs": [],
   "source": [
    "testdictionary.update(\n",
    "    {\n",
    "        \"Atomic properties\" :[\n",
    "            \"Atomic mass\",\n",
    "            \"Atomic number\",\n",
    "            \"Atomic weight\"]\n",
    "    }\n",
    ")"
   ]
  },
  {
   "cell_type": "code",
   "execution_count": null,
   "metadata": {},
   "outputs": [],
   "source": [
    "testdictionary.update(\n",
    "    {\n",
    "        \"Chemical properties\" :[\n",
    "            \"Corrosion resistance\",\n",
    "            \"Hygroscopy\",\n",
    "            \"pH\",\n",
    "            \"Reactivity\",\n",
    "            \"Specific internal surface area\",\n",
    "            \"Surface energy\",\n",
    "            \"Surface tension\"]\n",
    "    }\n",
    ")"
   ]
  },
  {
   "cell_type": "code",
   "execution_count": null,
   "metadata": {},
   "outputs": [],
   "source": [
    "print(testdictionary.keys())"
   ]
  },
  {
   "cell_type": "code",
   "execution_count": null,
   "metadata": {},
   "outputs": [],
   "source": [
    "print(testdictionary.values())"
   ]
  }
 ],
 "metadata": {
  "kernelspec": {
   "display_name": "Python 3.10.1 64-bit (system)",
   "language": "python",
   "name": "python3"
  },
  "language_info": {
   "name": "python",
   "version": "3.10.1"
  },
  "orig_nbformat": 4,
  "vscode": {
   "interpreter": {
    "hash": "2bfb5fb382b8d91546739e36e02062b43f285513771b07f4cc6752b4148c4390"
   }
  }
 },
 "nbformat": 4,
 "nbformat_minor": 2
}
