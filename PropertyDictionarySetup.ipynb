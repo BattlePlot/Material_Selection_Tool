{
 "cells": [
  {
   "cell_type": "code",
   "execution_count": 1,
   "metadata": {},
   "outputs": [],
   "source": [
    "propertydictionary = {\n",
    "    \"Acoustical properties\" : [\n",
    "        \"Acoustical absorption\",\n",
    "        \"Speed of sound\",\n",
    "        \"Sound reflection\",\n",
    "        \"Sound transfer\",\n",
    "        \"Third order elasticity (Acoustoelastic effect)\"]\n",
    "}"
   ]
  },
  {
   "cell_type": "code",
   "execution_count": 2,
   "metadata": {},
   "outputs": [],
   "source": [
    "propertydictionary.update(\n",
    "    {\n",
    "        \"Atomic properties\" :[\n",
    "            \"Atomic mass\",\n",
    "            \"Atomic number\",\n",
    "            \"Atomic weight\"]\n",
    "    }\n",
    ")"
   ]
  },
  {
   "cell_type": "code",
   "execution_count": 3,
   "metadata": {},
   "outputs": [],
   "source": [
    "propertydictionary.update(\n",
    "    {\n",
    "        \"Chemical properties\" :[\n",
    "            \"Corrosion resistance\",\n",
    "            \"Hygroscopy\",\n",
    "            \"pH\",\n",
    "            \"Reactivity\",\n",
    "            \"Specific internal surface area\",\n",
    "            \"Surface energy\",\n",
    "            \"Surface tension\"]\n",
    "    }\n",
    ")"
   ]
  },
  {
   "cell_type": "code",
   "execution_count": 4,
   "metadata": {},
   "outputs": [],
   "source": [
    "propertydictionary.update(\n",
    "    {\n",
    "        \"Electrical properties\" :[\n",
    "            \"Capacitance\",\n",
    "            \"Dielectric constant\",\n",
    "            \"Dielectric strength\",\n",
    "            \"Electrical resistivity\",\n",
    "            \"Electrical conductivity\",\n",
    "            \"Electric susceptibility\",\n",
    "            \"Electrocaloric coefficient\",\n",
    "            \"Electrostriction\",\n",
    "            \"Magnetoelectric polarizability\",\n",
    "            \"Nernst coefficient (thermoelectric effect)\",\n",
    "            \"Permittivity\",\n",
    "            \"Piezoelectric constants\",\n",
    "            \"Pyroelectricity\",\n",
    "            \"Seebeck coefficient\"]\n",
    "    }\n",
    ")"
   ]
  },
  {
   "cell_type": "code",
   "execution_count": 5,
   "metadata": {},
   "outputs": [],
   "source": [
    "propertydictionary.update(\n",
    "    {\n",
    "        \"Magnetic properties\" :[\n",
    "            \"Curie temperature\",\n",
    "            \"Diamagnetism\",\n",
    "            \"Hall coefficient\",\n",
    "            \"Hysteresis\",\n",
    "            \"Magnetostriction\",\n",
    "            \"Magnetocaloric coefficient\",\n",
    "            \"Magnetothermoelectric power (magneto-Seebeck effect coefficient)\",\n",
    "            \"Magnetoresistance\",\n",
    "            \"Maximum energy product\",\n",
    "            \"Permeability\",\n",
    "            \"Piezomagnetism\",\n",
    "            \"Pyromagnetic coefficient\",\n",
    "            \"Spin Hall effect\"]\n",
    "    }\n",
    ")"
   ]
  },
  {
   "cell_type": "code",
   "execution_count": 8,
   "metadata": {},
   "outputs": [],
   "source": [
    "propertydictionary.update(\n",
    "    {\n",
    "        \"Manufacturing properties\" :[\n",
    "            \"Castability: How easily a quality casting can be obtained from the material\",\n",
    "            \"Machinability rating\",\n",
    "            \"Machining speeds and feeds\",]\n",
    "    }\n",
    ")"
   ]
  },
  {
   "cell_type": "code",
   "execution_count": 9,
   "metadata": {},
   "outputs": [],
   "source": [
    "propertydictionary.update(\n",
    "    {\n",
    "        \"Mechanical properties\" :[\n",
    "            \"Brittleness: Ability of a material to break or shatter without significant deformation when under stress; opposite of plasticity, examples: glass, concrete, cast iron, ceramics etc.\",\n",
    "            \"Bulk modulus: Ratio of pressure to volumetric compression (GPa) or ratio of the infinitesimal pressure increase to the resulting relative decrease of the volume\",\n",
    "            \"Coefficient of restitution: The ratio of the final to initial relative velocity between two objects after they collide. Range: 0-1, 1 for perfectly elastic collision.\",\n",
    "            \"Compressive strength: Maximum stress a material can withstand before compressive failure (MPa)\",\n",
    "            \"Creep: The slow and gradual deformation of an object with respect to time.If the s in a material exceeds the yield point, the strain caused in the material by the application of load does not disappear totally on the removal of load. The plastic deformation caused to the material is known as creep. At high temperatures, the strain due to creep is quite appreciable.[1]\",\n",
    "            \"Ductility: Ability of a material to deform under tensile load (% elongation). It is the property of a material by which it can be drawn into wires under the action of tensile force. A ductile material must have a high degree of plasticity and strength so that large deformations can take place without failure or rupture of the material. In ductile extension, a material that exhibits a certain amount of elasticity along with a high degree of plasticity.[2]\",\n",
    "            \"Durability: Ability to withstand wear, pressure, or damage; hard-wearing\",\n",
    "            \"Elasticity: Ability of a body to resist a distorting influence or stress and to return to its original size and shape when the stress is removed\",\n",
    "            \"Fatigue limit: Maximum stress a material can withstand under repeated loading (MPa)\",\n",
    "            \"Flexibility: Ability of an object to bend or deform in response to an applied force; pliability; complementary to stiffness\",\n",
    "            \"Flexural modulus\",\n",
    "            \"Flexural strength: Maximum bending stress a material can withstand before failure (MPa)\",\n",
    "            \"Fracture toughness: Ability of a material containing a crack to resist fracture (J/m^2)\",\n",
    "            \"Friction coefficient: The amount of force normal to surface which converts to force resisting relative movement of contacting surfaces between material pair\",\n",
    "            \"Hardness: Ability to withstand surface indentation and scratching (e.g. Brinell hardness number)\",\n",
    "            \"Malleability: Ability of the material to be flattened into thin sheets under applications of heavy compressive forces without cracking by hot or cold working means.This property of a material allows it to expand in all directions without rupture.[3]\",\n",
    "            \"Mass diffusivity: Ability of one substance to diffuse through another\",\n",
    "            \"Plasticity: Ability of a material to undergo irreversible or permanent deformations without breaking or rupturing; opposite of brittleness\",\n",
    "            \"Poisson's ratio: Ratio of lateral strain to axial strain (no units)\",\n",
    "            \"Resilience: Ability of a material to absorb energy when it is deformed elastically (MPa); combination of strength and elasticity\",\n",
    "            \"Shear modulus: Ratio of shear stress to shear strain (MPa)\",\n",
    "            \"Shear strength: Maximum shear stress a material can withstand\",\n",
    "            \"Slip: A tendency of a material's particles to undergo plastic deformation due to a dislocation motion within the material. Common in Crystals.\",\n",
    "            \"Specific modulus: Modulus per unit volume (MPa/m^3)\",\n",
    "            \"Specific strength: Strength per unit density (Nm/kg)\",\n",
    "            \"Specific weight: Weight per unit volume (N/m^3)\", \n",
    "            \"Stiffness: Ability of an object to resist deformation in response to an applied force; rigidity; complementary to flexibility\",\n",
    "            \"Surface roughness: The deviations in the direction of the normal vector of a real surface from its ideal form\",\n",
    "            \"Tensile strength: Maximum tensile stress of a material can withstand before failure (MPa)\",\n",
    "            \"Toughness: Ability of a material to absorb energy (or withstand shock) and plastically deform without fracturing (or rupturing); a material's resistance to fracture when stressed; combination of strength and plasticity\",\n",
    "            \"Viscosity: A fluid's resistance to gradual deformation by tensile or shear stress; thickness\",\n",
    "            \"Yield strength: The stress at which a material starts to yield plastically (MPa)\",\n",
    "            \"Young's modulus: Ratio of linear stress to linear strain (MPa)\",]\n",
    "    }\n",
    ")"
   ]
  },
  {
   "cell_type": "code",
   "execution_count": 10,
   "metadata": {},
   "outputs": [],
   "source": [
    "propertydictionary.update(\n",
    "    {\n",
    "        \"Optical properties\" :[\n",
    "            \"Absorbance: How strongly a chemical attenuates light\",\n",
    "            \"Birefringence\",\n",
    "            \"Color\",\n",
    "            \"Electro-optic effect\",\n",
    "            \"Luminosity\",\n",
    "            \"Optical activity\",\n",
    "            \"Photoelasticity\",\n",
    "            \"Photosensitivity\",\n",
    "            \"Reflectivity\",\n",
    "            \"Refractive index\",\n",
    "            \"Scattering\",\n",
    "            \"Transmittance\"]\n",
    "    }\n",
    ")"
   ]
  },
  {
   "cell_type": "code",
   "execution_count": 11,
   "metadata": {},
   "outputs": [],
   "source": [
    "propertydictionary.update(\n",
    "    {\n",
    "        \"Radiological properties\" :[\n",
    "            \"Neutron cross-section\",\n",
    "            \"Specific activity\",\n",
    "            \"Half life\"]\n",
    "    }\n",
    ")"
   ]
  },
  {
   "cell_type": "code",
   "execution_count": 12,
   "metadata": {},
   "outputs": [],
   "source": [
    "propertydictionary.update(\n",
    "    {\n",
    "        \"Thermal properties\" :[\n",
    "            \"Binary phase diagram\",\n",
    "            \"Boiling point\",\n",
    "            \"Coefficient of thermal expansion\",\n",
    "            \"Critical temperature\",\n",
    "            \"Curie point\",\n",
    "            \"Ductile-to-brittle transition temperature\",\n",
    "            \"Emissivity\",\n",
    "            \"Eutectic point\",\n",
    "            \"Flammability\",\n",
    "            \"Flash point\",\n",
    "            \"Glass transition temperature\",\n",
    "            \"Heat of vaporization\",\n",
    "            \"Inversion temperature\",\n",
    "            \"Melting point\",\n",
    "            \"Thermal conductivity\",\n",
    "            \"Thermal diffusivity\",\n",
    "            \"Thermal expansion\",\n",
    "            \"Triple point\",\n",
    "            \"Vapor pressure\",\n",
    "            \"Specific heat capacity\"]\n",
    "    }\n",
    ")"
   ]
  },
  {
   "cell_type": "code",
   "execution_count": 13,
   "metadata": {},
   "outputs": [
    {
     "name": "stdout",
     "output_type": "stream",
     "text": [
      "dict_keys(['Acoustical properties', 'Atomic properties', 'Chemical properties', 'Electrical properties', 'Magnetic properties', 'Manufacturing properties', 'Mechanical properties', 'Optical properties', 'Radiological properties', 'Thermal properties'])\n"
     ]
    }
   ],
   "source": [
    "print(propertydictionary.keys())"
   ]
  },
  {
   "cell_type": "code",
   "execution_count": 14,
   "metadata": {},
   "outputs": [
    {
     "name": "stdout",
     "output_type": "stream",
     "text": [
      "dict_values([['Acoustical absorption', 'Speed of sound', 'Sound reflection', 'Sound transfer', 'Third order elasticity (Acoustoelastic effect)'], ['Atomic mass', 'Atomic number', 'Atomic weight'], ['Corrosion resistance', 'Hygroscopy', 'pH', 'Reactivity', 'Specific internal surface area', 'Surface energy', 'Surface tension'], ['Capacitance', 'Dielectric constant', 'Dielectric strength', 'Electrical resistivity', 'Electrical conductivity', 'Electric susceptibility', 'Electrocaloric coefficient', 'Electrostriction', 'Magnetoelectric polarizability', 'Nernst coefficient (thermoelectric effect)', 'Permittivity', 'Piezoelectric constants', 'Pyroelectricity', 'Seebeck coefficient'], ['Curie temperature', 'Diamagnetism', 'Hall coefficient', 'Hysteresis', 'Magnetostriction', 'Magnetocaloric coefficient', 'Magnetothermoelectric power (magneto-Seebeck effect coefficient)', 'Magnetoresistance', 'Maximum energy product', 'Permeability', 'Piezomagnetism', 'Pyromagnetic coefficient', 'Spin Hall effect'], ['Castability: How easily a quality casting can be obtained from the material', 'Machinability rating', 'Machining speeds and feeds'], ['Brittleness: Ability of a material to break or shatter without significant deformation when under stress; opposite of plasticity, examples: glass, concrete, cast iron, ceramics etc.', 'Bulk modulus: Ratio of pressure to volumetric compression (GPa) or ratio of the infinitesimal pressure increase to the resulting relative decrease of the volume', 'Coefficient of restitution: The ratio of the final to initial relative velocity between two objects after they collide. Range: 0-1, 1 for perfectly elastic collision.', 'Compressive strength: Maximum stress a material can withstand before compressive failure (MPa)', 'Creep: The slow and gradual deformation of an object with respect to time.If the s in a material exceeds the yield point, the strain caused in the material by the application of load does not disappear totally on the removal of load. The plastic deformation caused to the material is known as creep. At high temperatures, the strain due to creep is quite appreciable.[1]', 'Ductility: Ability of a material to deform under tensile load (% elongation). It is the property of a material by which it can be drawn into wires under the action of tensile force. A ductile material must have a high degree of plasticity and strength so that large deformations can take place without failure or rupture of the material. In ductile extension, a material that exhibits a certain amount of elasticity along with a high degree of plasticity.[2]', 'Durability: Ability to withstand wear, pressure, or damage; hard-wearing', 'Elasticity: Ability of a body to resist a distorting influence or stress and to return to its original size and shape when the stress is removed', 'Fatigue limit: Maximum stress a material can withstand under repeated loading (MPa)', 'Flexibility: Ability of an object to bend or deform in response to an applied force; pliability; complementary to stiffness', 'Flexural modulus', 'Flexural strength: Maximum bending stress a material can withstand before failure (MPa)', 'Fracture toughness: Ability of a material containing a crack to resist fracture (J/m^2)', 'Friction coefficient: The amount of force normal to surface which converts to force resisting relative movement of contacting surfaces between material pair', 'Hardness: Ability to withstand surface indentation and scratching (e.g. Brinell hardness number)', 'Malleability: Ability of the material to be flattened into thin sheets under applications of heavy compressive forces without cracking by hot or cold working means.This property of a material allows it to expand in all directions without rupture.[3]', 'Mass diffusivity: Ability of one substance to diffuse through another', 'Plasticity: Ability of a material to undergo irreversible or permanent deformations without breaking or rupturing; opposite of brittleness', \"Poisson's ratio: Ratio of lateral strain to axial strain (no units)\", 'Resilience: Ability of a material to absorb energy when it is deformed elastically (MPa); combination of strength and elasticity', 'Shear modulus: Ratio of shear stress to shear strain (MPa)', 'Shear strength: Maximum shear stress a material can withstand', \"Slip: A tendency of a material's particles to undergo plastic deformation due to a dislocation motion within the material. Common in Crystals.\", 'Specific modulus: Modulus per unit volume (MPa/m^3)', 'Specific strength: Strength per unit density (Nm/kg)', 'Specific weight: Weight per unit volume (N/m^3)', 'Stiffness: Ability of an object to resist deformation in response to an applied force; rigidity; complementary to flexibility', 'Surface roughness: The deviations in the direction of the normal vector of a real surface from its ideal form', 'Tensile strength: Maximum tensile stress of a material can withstand before failure (MPa)', \"Toughness: Ability of a material to absorb energy (or withstand shock) and plastically deform without fracturing (or rupturing); a material's resistance to fracture when stressed; combination of strength and plasticity\", \"Viscosity: A fluid's resistance to gradual deformation by tensile or shear stress; thickness\", 'Yield strength: The stress at which a material starts to yield plastically (MPa)', \"Young's modulus: Ratio of linear stress to linear strain (MPa)\"], ['Absorbance: How strongly a chemical attenuates light', 'Birefringence', 'Color', 'Electro-optic effect', 'Luminosity', 'Optical activity', 'Photoelasticity', 'Photosensitivity', 'Reflectivity', 'Refractive index', 'Scattering', 'Transmittance'], ['Neutron cross-section', 'Specific activity', 'Half life'], ['Binary phase diagram', 'Boiling point', 'Coefficient of thermal expansion', 'Critical temperature', 'Curie point', 'Ductile-to-brittle transition temperature', 'Emissivity', 'Eutectic point', 'Flammability', 'Flash point', 'Glass transition temperature', 'Heat of vaporization', 'Inversion temperature', 'Melting point', 'Thermal conductivity', 'Thermal diffusivity', 'Thermal expansion', 'Triple point', 'Vapor pressure', 'Specific heat capacity']])\n"
     ]
    }
   ],
   "source": [
    "print(propertydictionary.values())"
   ]
  }
 ],
 "metadata": {
  "kernelspec": {
   "display_name": "Python 3.10.1 64-bit (system)",
   "language": "python",
   "name": "python3"
  },
  "language_info": {
   "codemirror_mode": {
    "name": "ipython",
    "version": 3
   },
   "file_extension": ".py",
   "mimetype": "text/x-python",
   "name": "python",
   "nbconvert_exporter": "python",
   "pygments_lexer": "ipython3",
   "version": "3.10.1"
  },
  "orig_nbformat": 4,
  "vscode": {
   "interpreter": {
    "hash": "2bfb5fb382b8d91546739e36e02062b43f285513771b07f4cc6752b4148c4390"
   }
  }
 },
 "nbformat": 4,
 "nbformat_minor": 2
}
