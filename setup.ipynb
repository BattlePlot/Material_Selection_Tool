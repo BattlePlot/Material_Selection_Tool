{
 "cells": [
  {
   "cell_type": "markdown",
   "metadata": {},
   "source": [
    "Program to set up the database for testing"
   ]
  },
  {
   "cell_type": "code",
   "execution_count": 9,
   "metadata": {},
   "outputs": [],
   "source": [
    "# Imports sqlite3 and csv\n",
    "\n",
    "import sqlite3"
   ]
  },
  {
   "cell_type": "code",
   "execution_count": 55,
   "metadata": {},
   "outputs": [],
   "source": [
    "# Creates a database (.db) named materials\n",
    "\n",
    "materials = sqlite3.connect('materials.db')"
   ]
  },
  {
   "cell_type": "code",
   "execution_count": null,
   "metadata": {},
   "outputs": [],
   "source": [
    "# Drops the materials table\n",
    "\n",
    "materials.execute('''DROP TABLE materials''')\n"
   ]
  },
  {
   "cell_type": "code",
   "execution_count": null,
   "metadata": {},
   "outputs": [],
   "source": [
    "# Dictates that the database is populated by name, young modulus and density. Name being the primary key.\n",
    "\n",
    "materials.execute('''CREATE TABLE MATERIALS\n",
    "        (ID INT PRIMARY KEY     NOT NULL,\n",
    "        NAME            TEXT    NOT NULL,\n",
    "        YOUNG MODULUS   INT     NOT NULL,\n",
    "        DENSITY         FLOAT   NOT NULL);''')"
   ]
  },
  {
   "cell_type": "code",
   "execution_count": 61,
   "metadata": {},
   "outputs": [],
   "source": [
    "# Closes the materials table\n",
    "\n",
    "materials.close()"
   ]
  },
  {
   "cell_type": "code",
   "execution_count": null,
   "metadata": {},
   "outputs": [],
   "source": [
    "# Inserting data into the table\n",
    "\n",
    "id = 1\n",
    "name = \"Typical Polymer\"\n",
    "ym = 0.01\n",
    "density = 0.9\n",
    "\n",
    "materials.execute('''INSERT INTO materials VALUES ('1', 'Typical Polymer', '1', '0.9')''')"
   ]
  },
  {
   "cell_type": "code",
   "execution_count": 58,
   "metadata": {},
   "outputs": [],
   "source": [
    "# Commits changes to the database\n",
    "\n",
    "materials.commit()"
   ]
  },
  {
   "cell_type": "code",
   "execution_count": 60,
   "metadata": {},
   "outputs": [
    {
     "name": "stdout",
     "output_type": "stream",
     "text": [
      "(1, 'Typical Polymer', 1, 0.9)\n"
     ]
    }
   ],
   "source": [
    "# Selects all from the materials table\n",
    "\n",
    "output=materials.execute('''SELECT * FROM materials''')\n",
    "for row in output:\n",
    "    print(row)"
   ]
  },
  {
   "cell_type": "code",
   "execution_count": null,
   "metadata": {},
   "outputs": [],
   "source": [
    "# Opens a .txt file\n",
    "# format is:\n",
    "# variable = open(\"relativepath\",'r')\n",
    "\n",
    "f = open(\"temp.txt\",'r')\n",
    "if f.mode == 'r':\n",
    "    content = f.read()\n",
    "print (content)"
   ]
  },
  {
   "cell_type": "code",
   "execution_count": null,
   "metadata": {},
   "outputs": [],
   "source": [
    "import csv, sqlite3\n",
    "\n",
    "csv_reader = csv.reader(open('myfile.txt'), skipinitialspace=True)\n",
    "csv_reader.next()                       \n",
    "# skip the first line in the file\n",
    "# ['Parliament', 'Name', 'Country', ...\n",
    "\n",
    "# put all data in a tuple\n",
    "# edit: decoding from utf-8 file to unicode\n",
    "to_db = tuple([i.decode('utf-8') for i in line] for line in csv_reader)\n",
    "to_db\n",
    "# this will be inserted into table\n",
    "# [(u'7', u'Marta Andreasen', u'United Kingdom', ...\n",
    "\n",
    "\n",
    "# more in https://stackoverflow.com/questions/3270952/populating-a-sqlite3-database-from-a-txt-file-with-python"
   ]
  }
 ],
 "metadata": {
  "kernelspec": {
   "display_name": "Python 3.10.1 64-bit (system)",
   "language": "python",
   "name": "python3"
  },
  "language_info": {
   "codemirror_mode": {
    "name": "ipython",
    "version": 3
   },
   "file_extension": ".py",
   "mimetype": "text/x-python",
   "name": "python",
   "nbconvert_exporter": "python",
   "pygments_lexer": "ipython3",
   "version": "3.10.1"
  },
  "orig_nbformat": 4,
  "vscode": {
   "interpreter": {
    "hash": "2bfb5fb382b8d91546739e36e02062b43f285513771b07f4cc6752b4148c4390"
   }
  }
 },
 "nbformat": 4,
 "nbformat_minor": 2
}
