{
 "cells": [
  {
   "cell_type": "markdown",
   "metadata": {},
   "source": [
    "Program to set up the database for testing"
   ]
  },
  {
   "cell_type": "code",
   "execution_count": 4,
   "metadata": {},
   "outputs": [],
   "source": [
    "# Imports sqlite3\n",
    "\n",
    "import sqlite3"
   ]
  },
  {
   "cell_type": "code",
   "execution_count": 5,
   "metadata": {},
   "outputs": [],
   "source": [
    "# Creates a database (.db) named materials\n",
    "\n",
    "materials = sqlite3.connect('materials.db')"
   ]
  },
  {
   "cell_type": "code",
   "execution_count": 6,
   "metadata": {},
   "outputs": [
    {
     "data": {
      "text/plain": [
       "<sqlite3.Cursor at 0x1d1a421ed40>"
      ]
     },
     "execution_count": 6,
     "metadata": {},
     "output_type": "execute_result"
    }
   ],
   "source": [
    "# Dictates that the database is populated by name, young modulus and density. Name being the primary key.\n",
    "\n",
    "materials.execute('''CREATE TABLE MATERIALS\n",
    "        (ID INT PRIMARY KEY     NOT NULL,\n",
    "        NAME            TEXT    NOT NULL,\n",
    "        YOUNG MODULUS   INT     NOT NULL,\n",
    "        DENSITY         FLOAT   NOT NULL);''')"
   ]
  },
  {
   "cell_type": "code",
   "execution_count": 7,
   "metadata": {},
   "outputs": [],
   "source": [
    "# Closes the materials table\n",
    "\n",
    "materials.close()"
   ]
  }
 ],
 "metadata": {
  "kernelspec": {
   "display_name": "Python 3.10.1 64-bit (system)",
   "language": "python",
   "name": "python3"
  },
  "language_info": {
   "codemirror_mode": {
    "name": "ipython",
    "version": 3
   },
   "file_extension": ".py",
   "mimetype": "text/x-python",
   "name": "python",
   "nbconvert_exporter": "python",
   "pygments_lexer": "ipython3",
   "version": "3.10.1"
  },
  "orig_nbformat": 4,
  "vscode": {
   "interpreter": {
    "hash": "2bfb5fb382b8d91546739e36e02062b43f285513771b07f4cc6752b4148c4390"
   }
  }
 },
 "nbformat": 4,
 "nbformat_minor": 2
}
