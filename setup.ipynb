{
 "cells": [
  {
   "cell_type": "markdown",
   "metadata": {},
   "source": [
    "Program to set up the database for testing"
   ]
  },
  {
   "cell_type": "code",
   "execution_count": 3,
   "metadata": {},
   "outputs": [],
   "source": [
    "# Imports sqlite3\n",
    "\n",
    "import sqlite3"
   ]
  },
  {
   "cell_type": "code",
   "execution_count": 55,
   "metadata": {},
   "outputs": [],
   "source": [
    "# Creates a database (.db) named materials\n",
    "\n",
    "materials = sqlite3.connect('materials.db')"
   ]
  },
  {
   "cell_type": "code",
   "execution_count": 54,
   "metadata": {},
   "outputs": [
    {
     "ename": "OperationalError",
     "evalue": "no such table: materials",
     "output_type": "error",
     "traceback": [
      "\u001b[1;31m---------------------------------------------------------------------------\u001b[0m",
      "\u001b[1;31mOperationalError\u001b[0m                          Traceback (most recent call last)",
      "\u001b[1;32mc:\\Joao\\Work\\Git\\Material Selection Program\\Material_Selection_Tool-1\\setup.ipynb Cell 4\u001b[0m in \u001b[0;36m<cell line: 3>\u001b[1;34m()\u001b[0m\n\u001b[0;32m      <a href='vscode-notebook-cell:/c%3A/Joao/Work/Git/Material%20Selection%20Program/Material_Selection_Tool-1/setup.ipynb#X10sZmlsZQ%3D%3D?line=0'>1</a>\u001b[0m \u001b[39m# Drops the materials table\u001b[39;00m\n\u001b[1;32m----> <a href='vscode-notebook-cell:/c%3A/Joao/Work/Git/Material%20Selection%20Program/Material_Selection_Tool-1/setup.ipynb#X10sZmlsZQ%3D%3D?line=2'>3</a>\u001b[0m materials\u001b[39m.\u001b[39;49mexecute(\u001b[39m'''\u001b[39;49m\u001b[39mDROP TABLE materials\u001b[39;49m\u001b[39m'''\u001b[39;49m)\n",
      "\u001b[1;31mOperationalError\u001b[0m: no such table: materials"
     ]
    }
   ],
   "source": [
    "# Drops the materials table\n",
    "\n",
    "materials.execute('''DROP TABLE materials''')\n"
   ]
  },
  {
   "cell_type": "code",
   "execution_count": 56,
   "metadata": {},
   "outputs": [
    {
     "data": {
      "text/plain": [
       "<sqlite3.Cursor at 0x232c68567c0>"
      ]
     },
     "execution_count": 56,
     "metadata": {},
     "output_type": "execute_result"
    }
   ],
   "source": [
    "# Dictates that the database is populated by name, young modulus and density. Name being the primary key.\n",
    "\n",
    "materials.execute('''CREATE TABLE MATERIALS\n",
    "        (ID INT PRIMARY KEY     NOT NULL,\n",
    "        NAME            TEXT    NOT NULL,\n",
    "        YOUNG MODULUS   INT     NOT NULL,\n",
    "        DENSITY         FLOAT   NOT NULL);''')"
   ]
  },
  {
   "cell_type": "code",
   "execution_count": 61,
   "metadata": {},
   "outputs": [],
   "source": [
    "# Closes the materials table\n",
    "\n",
    "materials.close()"
   ]
  },
  {
   "cell_type": "code",
   "execution_count": 57,
   "metadata": {},
   "outputs": [
    {
     "data": {
      "text/plain": [
       "<sqlite3.Cursor at 0x232c68578c0>"
      ]
     },
     "execution_count": 57,
     "metadata": {},
     "output_type": "execute_result"
    }
   ],
   "source": [
    "# Inserting data into the table\n",
    "\n",
    "id = 1\n",
    "name = \"Typical Polymer\"\n",
    "ym = 0.01\n",
    "density = 0.9\n",
    "\n",
    "materials.execute('''INSERT INTO materials VALUES ('1', 'Typical Polymer', '1', '0.9')''')"
   ]
  },
  {
   "cell_type": "code",
   "execution_count": 58,
   "metadata": {},
   "outputs": [],
   "source": [
    "# Commits changes to the database\n",
    "\n",
    "materials.commit()"
   ]
  },
  {
   "cell_type": "code",
   "execution_count": 60,
   "metadata": {},
   "outputs": [
    {
     "name": "stdout",
     "output_type": "stream",
     "text": [
      "(1, 'Typical Polymer', 1, 0.9)\n"
     ]
    }
   ],
   "source": [
    "# Selects all from the materials table\n",
    "\n",
    "output=materials.execute('''SELECT * FROM materials''')\n",
    "for row in output:\n",
    "    print(row)"
   ]
  }
 ],
 "metadata": {
  "kernelspec": {
   "display_name": "Python 3.10.1 64-bit (system)",
   "language": "python",
   "name": "python3"
  },
  "language_info": {
   "codemirror_mode": {
    "name": "ipython",
    "version": 3
   },
   "file_extension": ".py",
   "mimetype": "text/x-python",
   "name": "python",
   "nbconvert_exporter": "python",
   "pygments_lexer": "ipython3",
   "version": "3.10.1"
  },
  "orig_nbformat": 4,
  "vscode": {
   "interpreter": {
    "hash": "2bfb5fb382b8d91546739e36e02062b43f285513771b07f4cc6752b4148c4390"
   }
  }
 },
 "nbformat": 4,
 "nbformat_minor": 2
}
